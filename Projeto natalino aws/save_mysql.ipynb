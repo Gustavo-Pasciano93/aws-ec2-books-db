{
 "cells": [
  {
   "cell_type": "markdown",
   "metadata": {},
   "source": [
    "Conectando ao MySQL"
   ]
  },
  {
   "cell_type": "code",
   "execution_count": 4,
   "metadata": {},
   "outputs": [
    {
     "name": "stdout",
     "output_type": "stream",
     "text": [
      "<mysql.connector.connection_cext.CMySQLConnection object at 0x00000222A04AC800>\n"
     ]
    }
   ],
   "source": [
    "import mysql.connector\n",
    "\n",
    "cnx = mysql.connector.connect(host='localhost', user='gpasciano', password= 'Pandas@2024')\n",
    "\n",
    "print(cnx)"
   ]
  },
  {
   "cell_type": "code",
   "execution_count": 6,
   "metadata": {},
   "outputs": [],
   "source": [
    "cursor = cnx.cursor()"
   ]
  },
  {
   "cell_type": "code",
   "execution_count": 14,
   "metadata": {},
   "outputs": [
    {
     "name": "stdout",
     "output_type": "stream",
     "text": [
      "('biblioteca',)\n",
      "('information_schema',)\n",
      "('mysql',)\n",
      "('performance_schema',)\n",
      "('sys',)\n"
     ]
    }
   ],
   "source": [
    "cursor.execute(\"SHOW DATABASES\")\n",
    "\n",
    "for db in cursor:\n",
    "    print(db)"
   ]
  },
  {
   "cell_type": "markdown",
   "metadata": {},
   "source": [
    "Lendo o arquivo CSV"
   ]
  },
  {
   "cell_type": "code",
   "execution_count": 8,
   "metadata": {},
   "outputs": [
    {
     "data": {
      "text/html": [
       "<div>\n",
       "<style scoped>\n",
       "    .dataframe tbody tr th:only-of-type {\n",
       "        vertical-align: middle;\n",
       "    }\n",
       "\n",
       "    .dataframe tbody tr th {\n",
       "        vertical-align: top;\n",
       "    }\n",
       "\n",
       "    .dataframe thead th {\n",
       "        text-align: right;\n",
       "    }\n",
       "</style>\n",
       "<table border=\"1\" class=\"dataframe\">\n",
       "  <thead>\n",
       "    <tr style=\"text-align: right;\">\n",
       "      <th></th>\n",
       "      <th>authors</th>\n",
       "      <th>published_date</th>\n",
       "      <th>description</th>\n",
       "    </tr>\n",
       "    <tr>\n",
       "      <th>title</th>\n",
       "      <th></th>\n",
       "      <th></th>\n",
       "      <th></th>\n",
       "    </tr>\n",
       "  </thead>\n",
       "  <tbody>\n",
       "    <tr>\n",
       "      <th>Fundamentals of Data Engineering</th>\n",
       "      <td>Joe Reis, Matt Housley</td>\n",
       "      <td>2022-06-22</td>\n",
       "      <td>Data engineering has grown rapidly in the past...</td>\n",
       "    </tr>\n",
       "    <tr>\n",
       "      <th>Azure Data Engineering Cookbook</th>\n",
       "      <td>Nagaraj Venkatesan, Ahmad Osama</td>\n",
       "      <td>2022-09-26</td>\n",
       "      <td>Nearly 80 recipes to help you collect and tran...</td>\n",
       "    </tr>\n",
       "    <tr>\n",
       "      <th>Data Engineering with dbt</th>\n",
       "      <td>Roberto Zagni</td>\n",
       "      <td>2023-06-30</td>\n",
       "      <td>Use easy-to-apply patterns in SQL and Python t...</td>\n",
       "    </tr>\n",
       "    <tr>\n",
       "      <th>Model and Data Engineering</th>\n",
       "      <td>Ladjel Bellatreche, Óscar Pastor, Jesús M. Alm...</td>\n",
       "      <td>2016-09-06</td>\n",
       "      <td>This book constitutes the refereed proceedings...</td>\n",
       "    </tr>\n",
       "    <tr>\n",
       "      <th>Data Engineering Best Practices</th>\n",
       "      <td>Richard J. Schiller, David Larochelle</td>\n",
       "      <td>2024-10-11</td>\n",
       "      <td>Explore modern data engineering techniques and...</td>\n",
       "    </tr>\n",
       "    <tr>\n",
       "      <th>Data Engineering and Management</th>\n",
       "      <td>Rajkumar Kannan, Frederic Andres</td>\n",
       "      <td>2012-01-16</td>\n",
       "      <td>This book constitutes the thoroughly refereed ...</td>\n",
       "    </tr>\n",
       "    <tr>\n",
       "      <th>Data Engineering for AI/ML Pipelines</th>\n",
       "      <td>Venkata Karthik Penikalapati, Mitesh Mangaonkar</td>\n",
       "      <td>2024-10-18</td>\n",
       "      <td>DESCRIPTION Data engineering is the art of bui...</td>\n",
       "    </tr>\n",
       "    <tr>\n",
       "      <th>Artificial Intelligence and Multimedia Data Engineering</th>\n",
       "      <td>Suman Kumar Swarnkar, Sapna Singh Kshatri, Vir...</td>\n",
       "      <td>2023-12-15</td>\n",
       "      <td>This book explains different applications of s...</td>\n",
       "    </tr>\n",
       "    <tr>\n",
       "      <th>Model and Data Engineering</th>\n",
       "      <td>Christian Attiogbé, Sadok Ben Yahia</td>\n",
       "      <td>2021-06-14</td>\n",
       "      <td>This book constitutes the refereed proceedings...</td>\n",
       "    </tr>\n",
       "    <tr>\n",
       "      <th>Data Engineering with Databricks Cookbook</th>\n",
       "      <td>Pulkit Chadha</td>\n",
       "      <td>2024-05-31</td>\n",
       "      <td>Work through 70 recipes for implementing relia...</td>\n",
       "    </tr>\n",
       "  </tbody>\n",
       "</table>\n",
       "</div>"
      ],
      "text/plain": [
       "                                                                                              authors  \\\n",
       "title                                                                                                   \n",
       "Fundamentals of Data Engineering                                               Joe Reis, Matt Housley   \n",
       "Azure Data Engineering Cookbook                                       Nagaraj Venkatesan, Ahmad Osama   \n",
       "Data Engineering with dbt                                                               Roberto Zagni   \n",
       "Model and Data Engineering                          Ladjel Bellatreche, Óscar Pastor, Jesús M. Alm...   \n",
       "Data Engineering Best Practices                                 Richard J. Schiller, David Larochelle   \n",
       "Data Engineering and Management                                      Rajkumar Kannan, Frederic Andres   \n",
       "Data Engineering for AI/ML Pipelines                  Venkata Karthik Penikalapati, Mitesh Mangaonkar   \n",
       "Artificial Intelligence and Multimedia Data Eng...  Suman Kumar Swarnkar, Sapna Singh Kshatri, Vir...   \n",
       "Model and Data Engineering                                        Christian Attiogbé, Sadok Ben Yahia   \n",
       "Data Engineering with Databricks Cookbook                                               Pulkit Chadha   \n",
       "\n",
       "                                                   published_date  \\\n",
       "title                                                               \n",
       "Fundamentals of Data Engineering                       2022-06-22   \n",
       "Azure Data Engineering Cookbook                        2022-09-26   \n",
       "Data Engineering with dbt                              2023-06-30   \n",
       "Model and Data Engineering                             2016-09-06   \n",
       "Data Engineering Best Practices                        2024-10-11   \n",
       "Data Engineering and Management                        2012-01-16   \n",
       "Data Engineering for AI/ML Pipelines                   2024-10-18   \n",
       "Artificial Intelligence and Multimedia Data Eng...     2023-12-15   \n",
       "Model and Data Engineering                             2021-06-14   \n",
       "Data Engineering with Databricks Cookbook              2024-05-31   \n",
       "\n",
       "                                                                                          description  \n",
       "title                                                                                                  \n",
       "Fundamentals of Data Engineering                    Data engineering has grown rapidly in the past...  \n",
       "Azure Data Engineering Cookbook                     Nearly 80 recipes to help you collect and tran...  \n",
       "Data Engineering with dbt                           Use easy-to-apply patterns in SQL and Python t...  \n",
       "Model and Data Engineering                          This book constitutes the refereed proceedings...  \n",
       "Data Engineering Best Practices                     Explore modern data engineering techniques and...  \n",
       "Data Engineering and Management                     This book constitutes the thoroughly refereed ...  \n",
       "Data Engineering for AI/ML Pipelines                DESCRIPTION Data engineering is the art of bui...  \n",
       "Artificial Intelligence and Multimedia Data Eng...  This book explains different applications of s...  \n",
       "Model and Data Engineering                          This book constitutes the refereed proceedings...  \n",
       "Data Engineering with Databricks Cookbook           Work through 70 recipes for implementing relia...  "
      ]
     },
     "execution_count": 8,
     "metadata": {},
     "output_type": "execute_result"
    }
   ],
   "source": [
    "import pandas as pd\n",
    "\n",
    "df = pd.read_csv(\"tabela_livros.csv\", index_col=0)\n",
    "\n",
    "df"
   ]
  },
  {
   "cell_type": "code",
   "execution_count": 9,
   "metadata": {},
   "outputs": [
    {
     "data": {
      "text/html": [
       "<div>\n",
       "<style scoped>\n",
       "    .dataframe tbody tr th:only-of-type {\n",
       "        vertical-align: middle;\n",
       "    }\n",
       "\n",
       "    .dataframe tbody tr th {\n",
       "        vertical-align: top;\n",
       "    }\n",
       "\n",
       "    .dataframe thead th {\n",
       "        text-align: right;\n",
       "    }\n",
       "</style>\n",
       "<table border=\"1\" class=\"dataframe\">\n",
       "  <thead>\n",
       "    <tr style=\"text-align: right;\">\n",
       "      <th></th>\n",
       "      <th>title</th>\n",
       "      <th>authors</th>\n",
       "      <th>published_date</th>\n",
       "      <th>description</th>\n",
       "    </tr>\n",
       "  </thead>\n",
       "  <tbody>\n",
       "    <tr>\n",
       "      <th>0</th>\n",
       "      <td>Fundamentals of Data Engineering</td>\n",
       "      <td>Joe Reis, Matt Housley</td>\n",
       "      <td>2022-06-22</td>\n",
       "      <td>Data engineering has grown rapidly in the past...</td>\n",
       "    </tr>\n",
       "    <tr>\n",
       "      <th>1</th>\n",
       "      <td>Azure Data Engineering Cookbook</td>\n",
       "      <td>Nagaraj Venkatesan, Ahmad Osama</td>\n",
       "      <td>2022-09-26</td>\n",
       "      <td>Nearly 80 recipes to help you collect and tran...</td>\n",
       "    </tr>\n",
       "    <tr>\n",
       "      <th>2</th>\n",
       "      <td>Data Engineering with dbt</td>\n",
       "      <td>Roberto Zagni</td>\n",
       "      <td>2023-06-30</td>\n",
       "      <td>Use easy-to-apply patterns in SQL and Python t...</td>\n",
       "    </tr>\n",
       "    <tr>\n",
       "      <th>3</th>\n",
       "      <td>Model and Data Engineering</td>\n",
       "      <td>Ladjel Bellatreche, Óscar Pastor, Jesús M. Alm...</td>\n",
       "      <td>2016-09-06</td>\n",
       "      <td>This book constitutes the refereed proceedings...</td>\n",
       "    </tr>\n",
       "    <tr>\n",
       "      <th>4</th>\n",
       "      <td>Data Engineering Best Practices</td>\n",
       "      <td>Richard J. Schiller, David Larochelle</td>\n",
       "      <td>2024-10-11</td>\n",
       "      <td>Explore modern data engineering techniques and...</td>\n",
       "    </tr>\n",
       "    <tr>\n",
       "      <th>5</th>\n",
       "      <td>Data Engineering and Management</td>\n",
       "      <td>Rajkumar Kannan, Frederic Andres</td>\n",
       "      <td>2012-01-16</td>\n",
       "      <td>This book constitutes the thoroughly refereed ...</td>\n",
       "    </tr>\n",
       "    <tr>\n",
       "      <th>6</th>\n",
       "      <td>Data Engineering for AI/ML Pipelines</td>\n",
       "      <td>Venkata Karthik Penikalapati, Mitesh Mangaonkar</td>\n",
       "      <td>2024-10-18</td>\n",
       "      <td>DESCRIPTION Data engineering is the art of bui...</td>\n",
       "    </tr>\n",
       "    <tr>\n",
       "      <th>7</th>\n",
       "      <td>Artificial Intelligence and Multimedia Data En...</td>\n",
       "      <td>Suman Kumar Swarnkar, Sapna Singh Kshatri, Vir...</td>\n",
       "      <td>2023-12-15</td>\n",
       "      <td>This book explains different applications of s...</td>\n",
       "    </tr>\n",
       "    <tr>\n",
       "      <th>8</th>\n",
       "      <td>Model and Data Engineering</td>\n",
       "      <td>Christian Attiogbé, Sadok Ben Yahia</td>\n",
       "      <td>2021-06-14</td>\n",
       "      <td>This book constitutes the refereed proceedings...</td>\n",
       "    </tr>\n",
       "    <tr>\n",
       "      <th>9</th>\n",
       "      <td>Data Engineering with Databricks Cookbook</td>\n",
       "      <td>Pulkit Chadha</td>\n",
       "      <td>2024-05-31</td>\n",
       "      <td>Work through 70 recipes for implementing relia...</td>\n",
       "    </tr>\n",
       "  </tbody>\n",
       "</table>\n",
       "</div>"
      ],
      "text/plain": [
       "                                               title  \\\n",
       "0                   Fundamentals of Data Engineering   \n",
       "1                    Azure Data Engineering Cookbook   \n",
       "2                          Data Engineering with dbt   \n",
       "3                         Model and Data Engineering   \n",
       "4                    Data Engineering Best Practices   \n",
       "5                    Data Engineering and Management   \n",
       "6               Data Engineering for AI/ML Pipelines   \n",
       "7  Artificial Intelligence and Multimedia Data En...   \n",
       "8                         Model and Data Engineering   \n",
       "9          Data Engineering with Databricks Cookbook   \n",
       "\n",
       "                                             authors published_date  \\\n",
       "0                             Joe Reis, Matt Housley     2022-06-22   \n",
       "1                    Nagaraj Venkatesan, Ahmad Osama     2022-09-26   \n",
       "2                                      Roberto Zagni     2023-06-30   \n",
       "3  Ladjel Bellatreche, Óscar Pastor, Jesús M. Alm...     2016-09-06   \n",
       "4              Richard J. Schiller, David Larochelle     2024-10-11   \n",
       "5                   Rajkumar Kannan, Frederic Andres     2012-01-16   \n",
       "6    Venkata Karthik Penikalapati, Mitesh Mangaonkar     2024-10-18   \n",
       "7  Suman Kumar Swarnkar, Sapna Singh Kshatri, Vir...     2023-12-15   \n",
       "8                Christian Attiogbé, Sadok Ben Yahia     2021-06-14   \n",
       "9                                      Pulkit Chadha     2024-05-31   \n",
       "\n",
       "                                         description  \n",
       "0  Data engineering has grown rapidly in the past...  \n",
       "1  Nearly 80 recipes to help you collect and tran...  \n",
       "2  Use easy-to-apply patterns in SQL and Python t...  \n",
       "3  This book constitutes the refereed proceedings...  \n",
       "4  Explore modern data engineering techniques and...  \n",
       "5  This book constitutes the thoroughly refereed ...  \n",
       "6  DESCRIPTION Data engineering is the art of bui...  \n",
       "7  This book explains different applications of s...  \n",
       "8  This book constitutes the refereed proceedings...  \n",
       "9  Work through 70 recipes for implementing relia...  "
      ]
     },
     "execution_count": 9,
     "metadata": {},
     "output_type": "execute_result"
    }
   ],
   "source": [
    "df.reset_index(inplace=True)\n",
    "\n",
    "df"
   ]
  },
  {
   "cell_type": "code",
   "execution_count": 10,
   "metadata": {},
   "outputs": [
    {
     "data": {
      "text/plain": [
       "Index(['title', 'authors', 'published_date', 'description'], dtype='object')"
      ]
     },
     "execution_count": 10,
     "metadata": {},
     "output_type": "execute_result"
    }
   ],
   "source": [
    "df.columns"
   ]
  },
  {
   "cell_type": "code",
   "execution_count": 12,
   "metadata": {},
   "outputs": [],
   "source": [
    "cursor.execute(\"CREATE DATABASE biblioteca\")"
   ]
  },
  {
   "cell_type": "markdown",
   "metadata": {},
   "source": [
    "Criando a Tabela no MySQL"
   ]
  },
  {
   "cell_type": "code",
   "execution_count": 13,
   "metadata": {},
   "outputs": [],
   "source": [
    "cursor.execute(\"\"\"CREATE TABLE IF NOT EXISTS biblioteca.tabela_livros_dados(\n",
    "               title VARCHAR(300),\n",
    "               authors VARCHAR(300),\n",
    "               published_date DATE,\n",
    "               description TEXT\n",
    "               )\"\"\")"
   ]
  },
  {
   "cell_type": "markdown",
   "metadata": {},
   "source": [
    "Inserindo os dados na tabela"
   ]
  },
  {
   "cell_type": "code",
   "execution_count": 15,
   "metadata": {},
   "outputs": [
    {
     "name": "stdout",
     "output_type": "stream",
     "text": [
      "Dados inseridos com sucesso!\n"
     ]
    }
   ],
   "source": [
    "for index, row in df.iterrows():\n",
    "    sql = \"\"\"\n",
    "    INSERT INTO biblioteca.tabela_livros_dados (title, authors, published_date, description)\n",
    "    VALUES (%s, %s, %s, %s)\n",
    "    \"\"\"\n",
    "    values = (row[\"title\"], row[\"authors\"], row[\"published_date\"], row[\"description\"])\n",
    "    cursor.execute(sql, values)\n",
    "\n",
    "\n",
    "cnx.commit()\n",
    "\n",
    "print(\"Dados inseridos com sucesso!\")"
   ]
  },
  {
   "cell_type": "code",
   "execution_count": 23,
   "metadata": {},
   "outputs": [
    {
     "data": {
      "text/plain": [
       "True"
      ]
     },
     "execution_count": 23,
     "metadata": {},
     "output_type": "execute_result"
    }
   ],
   "source": [
    "try:\n",
    "    # Consumir resultados pendentes, se houver\n",
    "    cursor.fetchall()\n",
    "except mysql.connector.errors.InterfaceError:\n",
    "    # Nenhum resultado para consumir, tudo certo\n",
    "    pass\n",
    "\n",
    "# Agora feche o cursor\n",
    "cursor.close()\n"
   ]
  },
  {
   "cell_type": "markdown",
   "metadata": {},
   "source": [
    "Confirmando se os dados estão na tabela"
   ]
  },
  {
   "cell_type": "code",
   "execution_count": 24,
   "metadata": {},
   "outputs": [
    {
     "name": "stdout",
     "output_type": "stream",
     "text": [
      "('Fundamentals of Data Engineering', 'Joe Reis, Matt Housley', datetime.date(2022, 6, 22), \"Data engineering has grown rapidly in the past decade, leaving many software engineers, data scientists, and analysts looking for a comprehensive view of this practice. With this practical book, you'll learn how to plan and build systems to serve the needs of your organization and customers by evaluating the best technologies available through the framework of the data engineering lifecycle. Authors Joe Reis and Matt Housley walk you through the data engineering lifecycle and show you how to stitch together a variety of cloud technologies to serve the needs of downstream data consumers. You'll understand how to apply the concepts of data generation, ingestion, orchestration, transformation, storage, and governance that are critical in any data environment regardless of the underlying technology. This book will help you: Get a concise overview of the entire data engineering landscape Assess data engineering problems using an end-to-end framework of best practices Cut through marketing hype when choosing data technologies, architecture, and processes Use the data engineering lifecycle to design and build a robust architecture Incorporate data governance and security across the data engineering lifecycle\")\n",
      "('Azure Data Engineering Cookbook', 'Nagaraj Venkatesan, Ahmad Osama', datetime.date(2022, 9, 26), \"Nearly 80 recipes to help you collect and transform data from multiple sources into a single data source, making it way easier to perform analytics on the data Key FeaturesBuild data pipelines from scratch and find solutions to common data engineering problemsLearn how to work with Azure Data Factory, Data Lake, Databricks, and Synapse AnalyticsMonitor and maintain your data engineering pipelines using Log Analytics, Azure Monitor, and Azure PurviewBook Description The famous quote 'Data is the new oil' seems more true every day as the key to most organizations' long-term success lies in extracting insights from raw data. One of the major challenges organizations face in leveraging value out of data is building performant data engineering pipelines for data visualization, ingestion, storage, and processing. This second edition of the immensely successful book by Ahmad Osama brings to you several recent enhancements in Azure data engineering and shares approximately 80 useful recipes covering common scenarios in building data engineering pipelines in Microsoft Azure. You'll explore recipes from Azure Synapse Analytics workspaces Gen 2 and get to grips with Synapse Spark pools, SQL Serverless pools, Synapse integration pipelines, and Synapse data flows. You'll also understand Synapse SQL Pool optimization techniques in this second edition. Besides Synapse enhancements, you'll discover helpful tips on managing Azure SQL Database and learn about security, high availability, and performance monitoring. Finally, the book takes you through overall data engineering pipeline management, focusing on monitoring using Log Analytics and tracking data lineage using Azure Purview. By the end of this book, you'll be able to build superior data engineering pipelines along with having an invaluable go-to guide. What you will learnProcess data using Azure Databricks and Azure Synapse AnalyticsPerform data transformation using Azure Synapse data flowsPerform common administrative tasks in Azure SQL DatabaseBuild effective Synapse SQL pools which can be consumed by Power BIMonitor Synapse SQL and Spark pools using Log AnalyticsTrack data lineage using Microsoft Purview integration with pipelinesWho this book is for This book is for data engineers, data architects, database administrators, and data professionals who want to get well versed with the Azure data services for building data pipelines. Basic understanding of cloud and data engineering concepts will help in getting the most out of this book.\")\n",
      "('Data Engineering with dbt', 'Roberto Zagni', datetime.date(2023, 6, 30), 'Use easy-to-apply patterns in SQL and Python to adopt modern analytics engineering to build agile platforms with dbt that are well-tested and simple to extend and run Purchase of the print or Kindle book includes a free PDF eBook Key Features Build a solid dbt base and learn data modeling and the modern data stack to become an analytics engineer Build automated and reliable pipelines to deploy, test, run, and monitor ELTs with dbt Cloud Guided dbt + Snowflake project to build a pattern-based architecture that delivers reliable datasets Book Descriptiondbt Cloud helps professional analytics engineers automate the application of powerful and proven patterns to transform data from ingestion to delivery, enabling real DataOps. This book begins by introducing you to dbt and its role in the data stack, along with how it uses simple SQL to build your data platform, helping you and your team work better together. You’ll find out how to leverage data modeling, data quality, master data management, and more to build a simple-to-understand and future-proof solution. As you advance, you’ll explore the modern data stack, understand how data-related careers are changing, and see how dbt enables this transition into the emerging role of an analytics engineer. The chapters help you build a sample project using the free version of dbt Cloud, Snowflake, and GitHub to create a professional DevOps setup with continuous integration, automated deployment, ELT run, scheduling, and monitoring, solving practical cases you encounter in your daily work. By the end of this dbt book, you’ll be able to build an end-to-end pragmatic data platform by ingesting data exported from your source systems, coding the needed transformations, including master data and the desired business rules, and building well-formed dimensional models or wide tables that’ll enable you to build reports with the BI tool of your choice.What you will learn Create a dbt Cloud account and understand the ELT workflow Combine Snowflake and dbt for building modern data engineering pipelines Use SQL to transform raw data into usable data, and test its accuracy Write dbt macros and use Jinja to apply software engineering principles Test data and transformations to ensure reliability and data quality Build a lightweight pragmatic data platform using proven patterns Write easy-to-maintain idempotent code using dbt materialization Who this book is for This book is for data engineers, analytics engineers, BI professionals, and data analysts who want to learn how to build simple, futureproof, and maintainable data platforms in an agile way. Project managers, data team managers, and decision makers looking to understand the importance of building a data platform and foster a culture of high-performing data teams will also find this book useful. Basic knowledge of SQL and data modeling will help you get the most out of the many layers of this book. The book also includes primers on many data-related subjects to help juniors get started.')\n",
      "('Model and Data Engineering', 'Ladjel Bellatreche, Óscar Pastor, Jesús M. Almendros Jiménez, Yamine Aït-Ameur', datetime.date(2016, 9, 6), 'This book constitutes the refereed proceedings of the 6th International Conference on Model and Data Engineering, MEDI 2016, held in Almería, Spain, in September 2016. The 17 full papers and 10 short papers presented together with 2 invited talks were carefully reviewed and selected from 62 submissions. The papers range on a wide spectrum covering fundamental contributions, applications and tool developments and improvements in model and data engineering activities.')\n",
      "('Data Engineering Best Practices', 'Richard J. Schiller, David Larochelle', datetime.date(2024, 10, 11), \"Explore modern data engineering techniques and best practices to build scalable, efficient, and future-proof data processing systems across cloud platforms Key Features Architect and engineer optimized data solutions in the cloud with best practices for performance and cost-effectiveness Explore design patterns and use cases to balance roles, technology choices, and processes for a future-proof design Learn from experts to avoid common pitfalls in data engineering projects Purchase of the print or Kindle book includes a free PDF eBook Book DescriptionRevolutionize your approach to data processing in the fast-paced business landscape with this essential guide to data engineering. Discover the power of scalable, efficient, and secure data solutions through expert guidance on data engineering principles and techniques. Written by two industry experts with over 60 years of combined experience, it offers deep insights into best practices, architecture, agile processes, and cloud-based pipelines. You’ll start by defining the challenges data engineers face and understand how this agile and future-proof comprehensive data solution architecture addresses them. As you explore the extensive toolkit, mastering the capabilities of various instruments, you’ll gain the knowledge needed for independent research. Covering everything you need, right from data engineering fundamentals, the guide uses real-world examples to illustrate potential solutions. It elevates your skills to architect scalable data systems, implement agile development processes, and design cloud-based data pipelines. The book further equips you with the knowledge to harness serverless computing and microservices to build resilient data applications. By the end, you'll be armed with the expertise to design and deliver high-performance data engineering solutions that are not only robust, efficient, and secure but also future-ready.What you will learn Architect scalable data solutions within a well-architected framework Implement agile software development processes tailored to your organization's needs Design cloud-based data pipelines for analytics, machine learning, and AI-ready data products Optimize data engineering capabilities to ensure performance and long-term business value Apply best practices for data security, privacy, and compliance Harness serverless computing and microservices to build resilient, scalable, and trustworthy data pipelines Who this book is for If you are a data engineer, ETL developer, or big data engineer who wants to master the principles and techniques of data engineering, this book is for you. A basic understanding of data engineering concepts, ETL processes, and big data technologies is expected. This book is also for professionals who want to explore advanced data engineering practices, including scalable data solutions, agile software development, and cloud-based data processing pipelines.\")\n",
      "('Data Engineering and Management', 'Rajkumar Kannan, Frederic Andres', datetime.date(2012, 1, 16), 'This book constitutes the thoroughly refereed post-conference proceedings of the Second International Conference on Data Engineering and Management, ICDEM 2010, held in Tiruchirappalli, India, in July 2010. The 46 revised full papers presented together with 1 keynote paper and 2 tutorial papers were carefully reviewed and selected from numerous submissions. The papers are organized in topical sections on Digital Library; Knowledge and Mulsemedia; Data Management and Knowledge Extraction; Natural Language Processing; Workshop on Data Mining with Graphs and Matrices.')\n",
      "('Data Engineering for AI/ML Pipelines', 'Venkata Karthik Penikalapati, Mitesh Mangaonkar', datetime.date(2024, 10, 18), 'DESCRIPTION Data engineering is the art of building and managing data pipelines that enable efficient data flow for AI/ML projects. This book serves as a comprehensive guide to data engineering for AI/ML systems, equipping you with the knowledge and skills to create robust and scalable data infrastructure. This book covers everything from foundational concepts to advanced techniques. It begins by introducing the role of data engineering in AI/ML, followed by exploring the lifecycle of data, from data generation and collection to storage and management. Readers will learn how to design robust data pipelines, transform data, and deploy AI/ML models effectively for real-world applications. The book also explains security, privacy, and compliance, ensuring responsible data management. Finally, it explores future trends, including automation, real-time data processing, and advanced architectures, providing a forward-looking perspective on the evolution of data engineering. By the end of this book, you will have a deep understanding of the principles and practices of data engineering for AI/ML. You will be able to design and implement efficient data pipelines, select appropriate technologies, ensure data quality and security, and leverage data for building successful AI/ML models. KEY FEATURES ● Comprehensive guide to building scalable AI/ML data engineering pipelines. ● Practical insights into data collection, storage, processing, and analysis. ● Emphasis on data security, privacy, and emerging trends in AI/ML. WHAT YOU WILL LEARN ● Architect scalable data solutions for AI/ML-driven applications. ● Design and implement efficient data pipelines for machine learning. ● Ensure data security and privacy in AI/ML systems. ● Leverage emerging technologies in data engineering for AI/ML. ● Optimize data transformation processes for enhanced model performance. WHO THIS BOOK IS FOR This book is ideal for software engineers, ML practitioners, IT professionals, and students wanting to master data pipelines for AI/ML. It is also valuable for developers and system architects aiming to expand their knowledge of data-driven technologies. TABLE OF CONTENTS 1. Introduction to Data Engineering for AI/ML 2. Lifecycle of AI/ML Data Engineering 3. Architecting Data Solutions for AI/ML 4. Technology Selection in AI/ML Data Engineering 5. Data Generation and Collection for AI/ML 6. Data Storage and Management in AI/ML 7. Data Ingestion and Preparation for ML 8. Transforming and Processing Data for AI/ML 9. Model Deployment and Data Serving 10. Security and Privacy in AI/ML Data Engineering 11. Emerging Trends and Future Direction')\n",
      "('Artificial Intelligence and Multimedia Data Engineering', 'Suman Kumar Swarnkar, Sapna Singh Kshatri, Virendra Kumar Swarnkar, Tien Anh Tran', datetime.date(2023, 12, 15), 'This book explains different applications of supervised and unsupervised data engineering for working with multimedia objects. Throughout this book, the contributors highlight the use of Artificial Intelligence-based soft computing and machine techniques in the field of medical diagnosis, biometrics, networking, automation in vehicle manufacturing, data science and automation in electronics industries. The book presents seven chapters which present use-cases for AI engineering that can be applied in many fields. The book concludes with a final chapter that summarizes emerging AI trends in intelligent and interactive multimedia systems. Key features: - A concise yet diverse range of AI applications for multimedia data engineering - Covers both supervised and unsupervised machine learning techniques - Summarizes emerging AI trends in data engineering - Simple structured chapters for quick reference and easy understanding - References for advanced readers This book is a primary reference for data science and engineering students, researchers and academicians who need a quick and practical understanding of AI supplications in multimedia analysis for undertaking or designing courses. It also serves as a secondary reference for IT and AI engineers and enthusiasts who want to grasp advanced applications of the basic machine learning techniques in everyday applications')\n",
      "('Model and Data Engineering', 'Christian Attiogbé, Sadok Ben Yahia', datetime.date(2021, 6, 14), 'This book constitutes the refereed proceedings of the 10th International Conference on Model and Data Engineering, MEDI 2021, held in Tallinn, Estonia, in June 2021. The 16 full papers and 8 short papers presented in this book were carefully reviewed and selected from 47 submissions. Additionally, the volume includes 3 abstracts of invited talks. The papers cover broad research areas on both theoretical, systems and practical aspects. Some papers include mining complex databases, concurrent systems, machine learning, swarm optimization, query processing, semantic web, graph databases, formal methods, model-driven engineering, blockchain, cyber physical systems, IoT applications, and smart systems. Due to the Corona pandemic the conference was held virtually.')\n",
      "('Data Engineering with Databricks Cookbook', 'Pulkit Chadha', datetime.date(2024, 5, 31), 'Work through 70 recipes for implementing reliable data pipelines with Apache Spark, optimally store and process structured and unstructured data in Delta Lake, and use Databricks to orchestrate and govern your data Key Features Learn data ingestion, data transformation, and data management techniques using Apache Spark and Delta Lake Gain practical guidance on using Delta Lake tables and orchestrating data pipelines Implement reliable DataOps and DevOps practices, and enforce data governance policies on Databricks Purchase of the print or Kindle book includes a free PDF eBook Book DescriptionWritten by a Senior Solutions Architect at Databricks, Data Engineering with Databricks Cookbook will show you how to effectively use Apache Spark, Delta Lake, and Databricks for data engineering, starting with comprehensive introduction to data ingestion and loading with Apache Spark. What makes this book unique is its recipe-based approach, which will help you put your knowledge to use straight away and tackle common problems. You’ll be introduced to various data manipulation and data transformation solutions that can be applied to data, find out how to manage and optimize Delta tables, and get to grips with ingesting and processing streaming data. The book will also show you how to improve the performance problems of Apache Spark apps and Delta Lake. Advanced recipes later in the book will teach you how to use Databricks to implement DataOps and DevOps practices, as well as how to orchestrate and schedule data pipelines using Databricks Workflows. You’ll also go through the full process of setup and configuration of the Unity Catalog for data governance. By the end of this book, you’ll be well-versed in building reliable and scalable data pipelines using modern data engineering technologies.What you will learn Perform data loading, ingestion, and processing with Apache Spark Discover data transformation techniques and custom user-defined functions (UDFs) in Apache Spark Manage and optimize Delta tables with Apache Spark and Delta Lake APIs Use Spark Structured Streaming for real-time data processing Optimize Apache Spark application and Delta table query performance Implement DataOps and DevOps practices on Databricks Orchestrate data pipelines with Delta Live Tables and Databricks Workflows Implement data governance policies with Unity Catalog Who this book is for This book is for data engineers, data scientists, and data practitioners who want to learn how to build efficient and scalable data pipelines using Apache Spark, Delta Lake, and Databricks. To get the most out of this book, you should have basic knowledge of data architecture, SQL, and Python programming.')\n"
     ]
    },
    {
     "data": {
      "text/plain": [
       "True"
      ]
     },
     "execution_count": 24,
     "metadata": {},
     "output_type": "execute_result"
    }
   ],
   "source": [
    "# Cria um novo cursor para consulta\n",
    "cursor = cnx.cursor()\n",
    "cursor.execute(\"SELECT * FROM biblioteca.tabela_livros_dados\")\n",
    "\n",
    "# Consome os resultados\n",
    "resultados = cursor.fetchall()\n",
    "for linha in resultados:\n",
    "    print(linha)\n",
    "\n",
    "# Fecha o cursor após o uso\n",
    "cursor.close()\n"
   ]
  },
  {
   "cell_type": "code",
   "execution_count": 25,
   "metadata": {},
   "outputs": [
    {
     "name": "stdout",
     "output_type": "stream",
     "text": [
      "+---------------------------------------------------------+-----------------------------------------------------------------------------------+------------------+----------------------------------------------------------------------------------------------------------------------------------------------------------------------------------------------------------------------------------------------------------------------------------------------------------------------------------------------------------------------------------------------------------------------------------------------------------------------------------------------------------------------------------------------------------------------------------------------------------------------------------------------------------------------------------------------------------------------------------------------------------------------------------------------------------------------------------------------------------------------------------------------------------------------------------------------------------------------------------------------------------------------------------------------------------------------------------------------------------------------------------------------------------------------------------------------------------------------------------------------------------------------------------------------------------------------------------------------------------------------------------------------------------------------------------------------------------------------------------------------------------------------------------------------------------------------------------------------------------------------------------------------------------------------------------------------------------------------------------------------------------------------------------------------------------------------------------------------------------------------------------------------------------------------------------------------------------------------------------------------------------------------------------------------------------------------------------------------------------------------------------------------------------------------------------------------------------------------------------------------------------------------------------------------------------------------------------------------------------------------------------------------------------------------------------------------------------------------------------------------------------------------------------------------------------------------------------------------------------------------------------------------------------------------------------------------------------------------------------------------------------------------------------------------------------------------------------------------------------------------------------------------------------------------------------------------------------------------------------------------------------------------------------------------------------------------------------------------------------------------------------------------+\n",
      "| title                                                   | authors                                                                           | published_date   | description                                                                                                                                                                                                                                                                                                                                                                                                                                                                                                                                                                                                                                                                                                                                                                                                                                                                                                                                                                                                                                                                                                                                                                                                                                                                                                                                                                                                                                                                                                                                                                                                                                                                                                                                                                                                                                                                                                                                                                                                                                                                                                                                                                                                                                                                                                                                                                                                                                                                                                                                                                                                                                                                                                                                                                                                                                                                                                                                                                                                                                                                                                                                  |\n",
      "|---------------------------------------------------------+-----------------------------------------------------------------------------------+------------------+----------------------------------------------------------------------------------------------------------------------------------------------------------------------------------------------------------------------------------------------------------------------------------------------------------------------------------------------------------------------------------------------------------------------------------------------------------------------------------------------------------------------------------------------------------------------------------------------------------------------------------------------------------------------------------------------------------------------------------------------------------------------------------------------------------------------------------------------------------------------------------------------------------------------------------------------------------------------------------------------------------------------------------------------------------------------------------------------------------------------------------------------------------------------------------------------------------------------------------------------------------------------------------------------------------------------------------------------------------------------------------------------------------------------------------------------------------------------------------------------------------------------------------------------------------------------------------------------------------------------------------------------------------------------------------------------------------------------------------------------------------------------------------------------------------------------------------------------------------------------------------------------------------------------------------------------------------------------------------------------------------------------------------------------------------------------------------------------------------------------------------------------------------------------------------------------------------------------------------------------------------------------------------------------------------------------------------------------------------------------------------------------------------------------------------------------------------------------------------------------------------------------------------------------------------------------------------------------------------------------------------------------------------------------------------------------------------------------------------------------------------------------------------------------------------------------------------------------------------------------------------------------------------------------------------------------------------------------------------------------------------------------------------------------------------------------------------------------------------------------------------------------|\n",
      "| Fundamentals of Data Engineering                        | Joe Reis, Matt Housley                                                            | 2022-06-22       | Data engineering has grown rapidly in the past decade, leaving many software engineers, data scientists, and analysts looking for a comprehensive view of this practice. With this practical book, you'll learn how to plan and build systems to serve the needs of your organization and customers by evaluating the best technologies available through the framework of the data engineering lifecycle. Authors Joe Reis and Matt Housley walk you through the data engineering lifecycle and show you how to stitch together a variety of cloud technologies to serve the needs of downstream data consumers. You'll understand how to apply the concepts of data generation, ingestion, orchestration, transformation, storage, and governance that are critical in any data environment regardless of the underlying technology. This book will help you: Get a concise overview of the entire data engineering landscape Assess data engineering problems using an end-to-end framework of best practices Cut through marketing hype when choosing data technologies, architecture, and processes Use the data engineering lifecycle to design and build a robust architecture Incorporate data governance and security across the data engineering lifecycle                                                                                                                                                                                                                                                                                                                                                                                                                                                                                                                                                                                                                                                                                                                                                                                                                                                                                                                                                                                                                                                                                                                                                                                                                                                                                                                                                                                                                                                                                                                                                                                                                                                                                                                                                                                                                                                                         |\n",
      "| Azure Data Engineering Cookbook                         | Nagaraj Venkatesan, Ahmad Osama                                                   | 2022-09-26       | Nearly 80 recipes to help you collect and transform data from multiple sources into a single data source, making it way easier to perform analytics on the data Key FeaturesBuild data pipelines from scratch and find solutions to common data engineering problemsLearn how to work with Azure Data Factory, Data Lake, Databricks, and Synapse AnalyticsMonitor and maintain your data engineering pipelines using Log Analytics, Azure Monitor, and Azure PurviewBook Description The famous quote 'Data is the new oil' seems more true every day as the key to most organizations' long-term success lies in extracting insights from raw data. One of the major challenges organizations face in leveraging value out of data is building performant data engineering pipelines for data visualization, ingestion, storage, and processing. This second edition of the immensely successful book by Ahmad Osama brings to you several recent enhancements in Azure data engineering and shares approximately 80 useful recipes covering common scenarios in building data engineering pipelines in Microsoft Azure. You'll explore recipes from Azure Synapse Analytics workspaces Gen 2 and get to grips with Synapse Spark pools, SQL Serverless pools, Synapse integration pipelines, and Synapse data flows. You'll also understand Synapse SQL Pool optimization techniques in this second edition. Besides Synapse enhancements, you'll discover helpful tips on managing Azure SQL Database and learn about security, high availability, and performance monitoring. Finally, the book takes you through overall data engineering pipeline management, focusing on monitoring using Log Analytics and tracking data lineage using Azure Purview. By the end of this book, you'll be able to build superior data engineering pipelines along with having an invaluable go-to guide. What you will learnProcess data using Azure Databricks and Azure Synapse AnalyticsPerform data transformation using Azure Synapse data flowsPerform common administrative tasks in Azure SQL DatabaseBuild effective Synapse SQL pools which can be consumed by Power BIMonitor Synapse SQL and Spark pools using Log AnalyticsTrack data lineage using Microsoft Purview integration with pipelinesWho this book is for This book is for data engineers, data architects, database administrators, and data professionals who want to get well versed with the Azure data services for building data pipelines. Basic understanding of cloud and data engineering concepts will help in getting the most out of this book.                                                                                                                                                                                                                                                                                                                                                                                                                                                                                                                 |\n",
      "| Data Engineering with dbt                               | Roberto Zagni                                                                     | 2023-06-30       | Use easy-to-apply patterns in SQL and Python to adopt modern analytics engineering to build agile platforms with dbt that are well-tested and simple to extend and run Purchase of the print or Kindle book includes a free PDF eBook Key Features Build a solid dbt base and learn data modeling and the modern data stack to become an analytics engineer Build automated and reliable pipelines to deploy, test, run, and monitor ELTs with dbt Cloud Guided dbt + Snowflake project to build a pattern-based architecture that delivers reliable datasets Book Descriptiondbt Cloud helps professional analytics engineers automate the application of powerful and proven patterns to transform data from ingestion to delivery, enabling real DataOps. This book begins by introducing you to dbt and its role in the data stack, along with how it uses simple SQL to build your data platform, helping you and your team work better together. You’ll find out how to leverage data modeling, data quality, master data management, and more to build a simple-to-understand and future-proof solution. As you advance, you’ll explore the modern data stack, understand how data-related careers are changing, and see how dbt enables this transition into the emerging role of an analytics engineer. The chapters help you build a sample project using the free version of dbt Cloud, Snowflake, and GitHub to create a professional DevOps setup with continuous integration, automated deployment, ELT run, scheduling, and monitoring, solving practical cases you encounter in your daily work. By the end of this dbt book, you’ll be able to build an end-to-end pragmatic data platform by ingesting data exported from your source systems, coding the needed transformations, including master data and the desired business rules, and building well-formed dimensional models or wide tables that’ll enable you to build reports with the BI tool of your choice.What you will learn Create a dbt Cloud account and understand the ELT workflow Combine Snowflake and dbt for building modern data engineering pipelines Use SQL to transform raw data into usable data, and test its accuracy Write dbt macros and use Jinja to apply software engineering principles Test data and transformations to ensure reliability and data quality Build a lightweight pragmatic data platform using proven patterns Write easy-to-maintain idempotent code using dbt materialization Who this book is for This book is for data engineers, analytics engineers, BI professionals, and data analysts who want to learn how to build simple, futureproof, and maintainable data platforms in an agile way. Project managers, data team managers, and decision makers looking to understand the importance of building a data platform and foster a culture of high-performing data teams will also find this book useful. Basic knowledge of SQL and data modeling will help you get the most out of the many layers of this book. The book also includes primers on many data-related subjects to help juniors get started. |\n",
      "| Model and Data Engineering                              | Ladjel Bellatreche, Óscar Pastor, Jesús M. Almendros Jiménez, Yamine Aït-Ameur    | 2016-09-06       | This book constitutes the refereed proceedings of the 6th International Conference on Model and Data Engineering, MEDI 2016, held in Almería, Spain, in September 2016. The 17 full papers and 10 short papers presented together with 2 invited talks were carefully reviewed and selected from 62 submissions. The papers range on a wide spectrum covering fundamental contributions, applications and tool developments and improvements in model and data engineering activities.                                                                                                                                                                                                                                                                                                                                                                                                                                                                                                                                                                                                                                                                                                                                                                                                                                                                                                                                                                                                                                                                                                                                                                                                                                                                                                                                                                                                                                                                                                                                                                                                                                                                                                                                                                                                                                                                                                                                                                                                                                                                                                                                                                                                                                                                                                                                                                                                                                                                                                                                                                                                                                                       |\n",
      "| Data Engineering Best Practices                         | Richard J. Schiller, David Larochelle                                             | 2024-10-11       | Explore modern data engineering techniques and best practices to build scalable, efficient, and future-proof data processing systems across cloud platforms Key Features Architect and engineer optimized data solutions in the cloud with best practices for performance and cost-effectiveness Explore design patterns and use cases to balance roles, technology choices, and processes for a future-proof design Learn from experts to avoid common pitfalls in data engineering projects Purchase of the print or Kindle book includes a free PDF eBook Book DescriptionRevolutionize your approach to data processing in the fast-paced business landscape with this essential guide to data engineering. Discover the power of scalable, efficient, and secure data solutions through expert guidance on data engineering principles and techniques. Written by two industry experts with over 60 years of combined experience, it offers deep insights into best practices, architecture, agile processes, and cloud-based pipelines. You’ll start by defining the challenges data engineers face and understand how this agile and future-proof comprehensive data solution architecture addresses them. As you explore the extensive toolkit, mastering the capabilities of various instruments, you’ll gain the knowledge needed for independent research. Covering everything you need, right from data engineering fundamentals, the guide uses real-world examples to illustrate potential solutions. It elevates your skills to architect scalable data systems, implement agile development processes, and design cloud-based data pipelines. The book further equips you with the knowledge to harness serverless computing and microservices to build resilient data applications. By the end, you'll be armed with the expertise to design and deliver high-performance data engineering solutions that are not only robust, efficient, and secure but also future-ready.What you will learn Architect scalable data solutions within a well-architected framework Implement agile software development processes tailored to your organization's needs Design cloud-based data pipelines for analytics, machine learning, and AI-ready data products Optimize data engineering capabilities to ensure performance and long-term business value Apply best practices for data security, privacy, and compliance Harness serverless computing and microservices to build resilient, scalable, and trustworthy data pipelines Who this book is for If you are a data engineer, ETL developer, or big data engineer who wants to master the principles and techniques of data engineering, this book is for you. A basic understanding of data engineering concepts, ETL processes, and big data technologies is expected. This book is also for professionals who want to explore advanced data engineering practices, including scalable data solutions, agile software development, and cloud-based data processing pipelines.                                                                                            |\n",
      "| Data Engineering and Management                         | Rajkumar Kannan, Frederic Andres                                                  | 2012-01-16       | This book constitutes the thoroughly refereed post-conference proceedings of the Second International Conference on Data Engineering and Management, ICDEM 2010, held in Tiruchirappalli, India, in July 2010. The 46 revised full papers presented together with 1 keynote paper and 2 tutorial papers were carefully reviewed and selected from numerous submissions. The papers are organized in topical sections on Digital Library; Knowledge and Mulsemedia; Data Management and Knowledge Extraction; Natural Language Processing; Workshop on Data Mining with Graphs and Matrices.                                                                                                                                                                                                                                                                                                                                                                                                                                                                                                                                                                                                                                                                                                                                                                                                                                                                                                                                                                                                                                                                                                                                                                                                                                                                                                                                                                                                                                                                                                                                                                                                                                                                                                                                                                                                                                                                                                                                                                                                                                                                                                                                                                                                                                                                                                                                                                                                                                                                                                                                                  |\n",
      "| Data Engineering for AI/ML Pipelines                    | Venkata Karthik Penikalapati, Mitesh Mangaonkar                                   | 2024-10-18       | DESCRIPTION Data engineering is the art of building and managing data pipelines that enable efficient data flow for AI/ML projects. This book serves as a comprehensive guide to data engineering for AI/ML systems, equipping you with the knowledge and skills to create robust and scalable data infrastructure. This book covers everything from foundational concepts to advanced techniques. It begins by introducing the role of data engineering in AI/ML, followed by exploring the lifecycle of data, from data generation and collection to storage and management. Readers will learn how to design robust data pipelines, transform data, and deploy AI/ML models effectively for real-world applications. The book also explains security, privacy, and compliance, ensuring responsible data management. Finally, it explores future trends, including automation, real-time data processing, and advanced architectures, providing a forward-looking perspective on the evolution of data engineering. By the end of this book, you will have a deep understanding of the principles and practices of data engineering for AI/ML. You will be able to design and implement efficient data pipelines, select appropriate technologies, ensure data quality and security, and leverage data for building successful AI/ML models. KEY FEATURES ● Comprehensive guide to building scalable AI/ML data engineering pipelines. ● Practical insights into data collection, storage, processing, and analysis. ● Emphasis on data security, privacy, and emerging trends in AI/ML. WHAT YOU WILL LEARN ● Architect scalable data solutions for AI/ML-driven applications. ● Design and implement efficient data pipelines for machine learning. ● Ensure data security and privacy in AI/ML systems. ● Leverage emerging technologies in data engineering for AI/ML. ● Optimize data transformation processes for enhanced model performance. WHO THIS BOOK IS FOR This book is ideal for software engineers, ML practitioners, IT professionals, and students wanting to master data pipelines for AI/ML. It is also valuable for developers and system architects aiming to expand their knowledge of data-driven technologies. TABLE OF CONTENTS 1. Introduction to Data Engineering for AI/ML 2. Lifecycle of AI/ML Data Engineering 3. Architecting Data Solutions for AI/ML 4. Technology Selection in AI/ML Data Engineering 5. Data Generation and Collection for AI/ML 6. Data Storage and Management in AI/ML 7. Data Ingestion and Preparation for ML 8. Transforming and Processing Data for AI/ML 9. Model Deployment and Data Serving 10. Security and Privacy in AI/ML Data Engineering 11. Emerging Trends and Future Direction                                                                                                                                                                                                                                                                                                                                                                                     |\n",
      "| Artificial Intelligence and Multimedia Data Engineering | Suman Kumar Swarnkar, Sapna Singh Kshatri, Virendra Kumar Swarnkar, Tien Anh Tran | 2023-12-15       | This book explains different applications of supervised and unsupervised data engineering for working with multimedia objects. Throughout this book, the contributors highlight the use of Artificial Intelligence-based soft computing and machine techniques in the field of medical diagnosis, biometrics, networking, automation in vehicle manufacturing, data science and automation in electronics industries. The book presents seven chapters which present use-cases for AI engineering that can be applied in many fields. The book concludes with a final chapter that summarizes emerging AI trends in intelligent and interactive multimedia systems. Key features: - A concise yet diverse range of AI applications for multimedia data engineering - Covers both supervised and unsupervised machine learning techniques - Summarizes emerging AI trends in data engineering - Simple structured chapters for quick reference and easy understanding - References for advanced readers This book is a primary reference for data science and engineering students, researchers and academicians who need a quick and practical understanding of AI supplications in multimedia analysis for undertaking or designing courses. It also serves as a secondary reference for IT and AI engineers and enthusiasts who want to grasp advanced applications of the basic machine learning techniques in everyday applications                                                                                                                                                                                                                                                                                                                                                                                                                                                                                                                                                                                                                                                                                                                                                                                                                                                                                                                                                                                                                                                                                                                                                                                                                                                                                                                                                                                                                                                                                                                                                                                                                                                                                                      |\n",
      "| Model and Data Engineering                              | Christian Attiogbé, Sadok Ben Yahia                                               | 2021-06-14       | This book constitutes the refereed proceedings of the 10th International Conference on Model and Data Engineering, MEDI 2021, held in Tallinn, Estonia, in June 2021. The 16 full papers and 8 short papers presented in this book were carefully reviewed and selected from 47 submissions. Additionally, the volume includes 3 abstracts of invited talks. The papers cover broad research areas on both theoretical, systems and practical aspects. Some papers include mining complex databases, concurrent systems, machine learning, swarm optimization, query processing, semantic web, graph databases, formal methods, model-driven engineering, blockchain, cyber physical systems, IoT applications, and smart systems. Due to the Corona pandemic the conference was held virtually.                                                                                                                                                                                                                                                                                                                                                                                                                                                                                                                                                                                                                                                                                                                                                                                                                                                                                                                                                                                                                                                                                                                                                                                                                                                                                                                                                                                                                                                                                                                                                                                                                                                                                                                                                                                                                                                                                                                                                                                                                                                                                                                                                                                                                                                                                                                                             |\n",
      "| Data Engineering with Databricks Cookbook               | Pulkit Chadha                                                                     | 2024-05-31       | Work through 70 recipes for implementing reliable data pipelines with Apache Spark, optimally store and process structured and unstructured data in Delta Lake, and use Databricks to orchestrate and govern your data Key Features Learn data ingestion, data transformation, and data management techniques using Apache Spark and Delta Lake Gain practical guidance on using Delta Lake tables and orchestrating data pipelines Implement reliable DataOps and DevOps practices, and enforce data governance policies on Databricks Purchase of the print or Kindle book includes a free PDF eBook Book DescriptionWritten by a Senior Solutions Architect at Databricks, Data Engineering with Databricks Cookbook will show you how to effectively use Apache Spark, Delta Lake, and Databricks for data engineering, starting with comprehensive introduction to data ingestion and loading with Apache Spark. What makes this book unique is its recipe-based approach, which will help you put your knowledge to use straight away and tackle common problems. You’ll be introduced to various data manipulation and data transformation solutions that can be applied to data, find out how to manage and optimize Delta tables, and get to grips with ingesting and processing streaming data. The book will also show you how to improve the performance problems of Apache Spark apps and Delta Lake. Advanced recipes later in the book will teach you how to use Databricks to implement DataOps and DevOps practices, as well as how to orchestrate and schedule data pipelines using Databricks Workflows. You’ll also go through the full process of setup and configuration of the Unity Catalog for data governance. By the end of this book, you’ll be well-versed in building reliable and scalable data pipelines using modern data engineering technologies.What you will learn Perform data loading, ingestion, and processing with Apache Spark Discover data transformation techniques and custom user-defined functions (UDFs) in Apache Spark Manage and optimize Delta tables with Apache Spark and Delta Lake APIs Use Spark Structured Streaming for real-time data processing Optimize Apache Spark application and Delta table query performance Implement DataOps and DevOps practices on Databricks Orchestrate data pipelines with Delta Live Tables and Databricks Workflows Implement data governance policies with Unity Catalog Who this book is for This book is for data engineers, data scientists, and data practitioners who want to learn how to build efficient and scalable data pipelines using Apache Spark, Delta Lake, and Databricks. To get the most out of this book, you should have basic knowledge of data architecture, SQL, and Python programming.                                                                                                                                                                                                                                                                                                                             |\n",
      "+---------------------------------------------------------+-----------------------------------------------------------------------------------+------------------+----------------------------------------------------------------------------------------------------------------------------------------------------------------------------------------------------------------------------------------------------------------------------------------------------------------------------------------------------------------------------------------------------------------------------------------------------------------------------------------------------------------------------------------------------------------------------------------------------------------------------------------------------------------------------------------------------------------------------------------------------------------------------------------------------------------------------------------------------------------------------------------------------------------------------------------------------------------------------------------------------------------------------------------------------------------------------------------------------------------------------------------------------------------------------------------------------------------------------------------------------------------------------------------------------------------------------------------------------------------------------------------------------------------------------------------------------------------------------------------------------------------------------------------------------------------------------------------------------------------------------------------------------------------------------------------------------------------------------------------------------------------------------------------------------------------------------------------------------------------------------------------------------------------------------------------------------------------------------------------------------------------------------------------------------------------------------------------------------------------------------------------------------------------------------------------------------------------------------------------------------------------------------------------------------------------------------------------------------------------------------------------------------------------------------------------------------------------------------------------------------------------------------------------------------------------------------------------------------------------------------------------------------------------------------------------------------------------------------------------------------------------------------------------------------------------------------------------------------------------------------------------------------------------------------------------------------------------------------------------------------------------------------------------------------------------------------------------------------------------------------------------------+\n"
     ]
    },
    {
     "data": {
      "text/plain": [
       "True"
      ]
     },
     "execution_count": 25,
     "metadata": {},
     "output_type": "execute_result"
    }
   ],
   "source": [
    "from tabulate import tabulate\n",
    "\n",
    "# Cria um novo cursor para consulta\n",
    "cursor = cnx.cursor()\n",
    "cursor.execute(\"SELECT * FROM biblioteca.tabela_livros_dados\")\n",
    "\n",
    "# Obtém os nomes das colunas\n",
    "colunas = [desc[0] for desc in cursor.description]\n",
    "\n",
    "# Consome os resultados\n",
    "resultados = cursor.fetchall()\n",
    "\n",
    "# Exibe os resultados em formato de tabela\n",
    "print(tabulate(resultados, headers=colunas, tablefmt=\"psql\"))\n",
    "\n",
    "# Fecha o cursor após o uso\n",
    "cursor.close()\n"
   ]
  }
 ],
 "metadata": {
  "kernelspec": {
   "display_name": "Python 3",
   "language": "python",
   "name": "python3"
  },
  "language_info": {
   "codemirror_mode": {
    "name": "ipython",
    "version": 3
   },
   "file_extension": ".py",
   "mimetype": "text/x-python",
   "name": "python",
   "nbconvert_exporter": "python",
   "pygments_lexer": "ipython3",
   "version": "3.12.0"
  }
 },
 "nbformat": 4,
 "nbformat_minor": 2
}
